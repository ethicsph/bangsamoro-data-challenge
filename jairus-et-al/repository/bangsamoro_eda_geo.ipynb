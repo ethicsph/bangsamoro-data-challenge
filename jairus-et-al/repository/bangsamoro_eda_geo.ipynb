{
 "cells": [
  {
   "cell_type": "markdown",
   "metadata": {},
   "source": [
    "#  Bangsamoro Open Dataset EDA"
   ]
  },
  {
   "cell_type": "code",
   "execution_count": 29,
   "metadata": {},
   "outputs": [
    {
     "ename": "ModuleNotFoundError",
     "evalue": "No module named 'geopandas'",
     "output_type": "error",
     "traceback": [
      "\u001b[1;31m---------------------------------------------------------------------------\u001b[0m",
      "\u001b[1;31mModuleNotFoundError\u001b[0m                       Traceback (most recent call last)",
      "\u001b[1;32m<ipython-input-29-e1404cdec69b>\u001b[0m in \u001b[0;36m<module>\u001b[1;34m\u001b[0m\n\u001b[0;32m      2\u001b[0m \u001b[1;32mimport\u001b[0m \u001b[0mpandas\u001b[0m \u001b[1;32mas\u001b[0m \u001b[0mpd\u001b[0m\u001b[1;33m\u001b[0m\u001b[1;33m\u001b[0m\u001b[0m\n\u001b[0;32m      3\u001b[0m \u001b[1;32mimport\u001b[0m \u001b[0mmatplotlib\u001b[0m\u001b[1;33m.\u001b[0m\u001b[0mpyplot\u001b[0m \u001b[1;32mas\u001b[0m \u001b[0mplt\u001b[0m\u001b[1;33m\u001b[0m\u001b[1;33m\u001b[0m\u001b[0m\n\u001b[1;32m----> 4\u001b[1;33m \u001b[1;32mimport\u001b[0m \u001b[0mgeopandas\u001b[0m \u001b[1;32mas\u001b[0m \u001b[0mgpd\u001b[0m\u001b[1;33m\u001b[0m\u001b[1;33m\u001b[0m\u001b[0m\n\u001b[0m",
      "\u001b[1;31mModuleNotFoundError\u001b[0m: No module named 'geopandas'"
     ]
    }
   ],
   "source": [
    "import numpy as np\n",
    "import pandas as pd\n",
    "import matplotlib.pyplot as plt\n",
    "import geopandas as gpd"
   ]
  },
  {
   "cell_type": "markdown",
   "metadata": {},
   "source": [
    "## Data Categories"
   ]
  },
  {
   "cell_type": "code",
   "execution_count": 25,
   "metadata": {},
   "outputs": [
    {
     "name": "stdout",
     "output_type": "stream",
     "text": [
      " Volume in drive C has no label.\n",
      " Volume Serial Number is E0A1-1C81\n",
      "\n",
      " Directory of C:\\Users\\othep\\Desktop\\Prince\\bangsamoro_eda\n",
      "\n",
      "\n",
      " Directory of C:\\Users\\othep\\Desktop\\Prince\\bangsamoro_eda\\datasets\n",
      "\n",
      "12/31/2019  05:44 PM    <DIR>          .\n",
      "12/31/2019  05:44 PM    <DIR>          ..\n",
      "12/31/2019  05:44 PM    <DIR>          1-Geodata\n",
      "12/31/2019  05:44 PM    <DIR>          2-Tabular Data\n",
      "12/31/2019  05:44 PM    <DIR>          3-Development Plans, Studies, and Reports\n",
      "12/31/2019  05:43 PM    <DIR>          4-Data Management and Mapping Resources\n",
      "12/31/2019  05:44 PM    <DIR>          5-New Maps\n",
      "12/31/2019  01:07 AM    <DIR>          6-Videos and Creative Materials\n",
      "04/10/2019  11:18 PM           170,355 Bangsamoro Open Data Inventory.xlsx\n",
      "02/28/2019  07:58 AM         2,042,175 Open Data for the Bangsamoro Transition 20190228 FINAL FOR RELEASE.pdf\n",
      "               2 File(s)      2,212,530 bytes\n",
      "               8 Dir(s)  743,028,801,536 bytes free\n"
     ]
    },
    {
     "name": "stderr",
     "output_type": "stream",
     "text": [
      "File Not Found\n"
     ]
    }
   ],
   "source": [
    "# Categories of Data\n",
    "!dir -- datasets"
   ]
  },
  {
   "cell_type": "markdown",
   "metadata": {},
   "source": [
    "## Geodata Categories"
   ]
  },
  {
   "cell_type": "code",
   "execution_count": 24,
   "metadata": {},
   "outputs": [
    {
     "name": "stdout",
     "output_type": "stream",
     "text": [
      " Volume in drive C has no label.\n",
      " Volume Serial Number is E0A1-1C81\n",
      "\n",
      " Directory of C:\\Users\\othep\\Desktop\\Prince\\bangsamoro_eda\n",
      "\n",
      "\n",
      " Directory of C:\\Users\\othep\\Desktop\\Prince\\bangsamoro_eda\\datasets\\1-Geodata\n",
      "\n",
      "12/31/2019  05:44 PM    <DIR>          .\n",
      "12/31/2019  05:44 PM    <DIR>          ..\n",
      "12/31/2019  05:45 PM    <DIR>          1-ADMINISTRATIVE\n",
      "12/31/2019  01:08 AM    <DIR>          10 - Others\n",
      "12/31/2019  05:46 PM    <DIR>          2-INFRASTRUCTURE\n",
      "12/31/2019  05:46 PM    <DIR>          3-PHYSICAL-ENVIRONMENTAL\n",
      "12/31/2019  05:47 PM    <DIR>          4-HAZARDS\n",
      "12/31/2019  05:48 PM    <DIR>          5-SOCIAL\n",
      "12/31/2019  05:48 PM    <DIR>          6-ECONOMIC\n",
      "12/31/2019  01:08 AM    <DIR>          7-SECURITY\n",
      "12/31/2019  05:50 PM    <DIR>          8-INTERVENTIONS\n",
      "12/31/2019  05:50 PM    <DIR>          9- Governance\n",
      "               0 File(s)              0 bytes\n",
      "              12 Dir(s)  743,028,932,608 bytes free\n"
     ]
    },
    {
     "name": "stderr",
     "output_type": "stream",
     "text": [
      "File Not Found\n"
     ]
    }
   ],
   "source": [
    "# Categories  in geodata\n",
    "!dir -- datasets\\1-Geodata"
   ]
  },
  {
   "cell_type": "markdown",
   "metadata": {},
   "source": [
    "### Geodata Administrative"
   ]
  },
  {
   "cell_type": "code",
   "execution_count": 27,
   "metadata": {},
   "outputs": [
    {
     "name": "stdout",
     "output_type": "stream",
     "text": [
      " Volume in drive C has no label.\n",
      " Volume Serial Number is E0A1-1C81\n",
      "\n",
      " Directory of C:\\Users\\othep\\Desktop\\Prince\\bangsamoro_eda\n",
      "\n",
      "\n",
      " Directory of C:\\Users\\othep\\Desktop\\Prince\\bangsamoro_eda\\datasets\\1-Geodata\\1-ADMINISTRATIVE\n",
      "\n",
      "12/31/2019  05:45 PM    <DIR>          .\n",
      "12/31/2019  05:45 PM    <DIR>          ..\n",
      "12/31/2019  05:44 PM    <DIR>          Administrative - ARMM Provincial Capitals and Major Cities (PSA 2016)\n",
      "12/31/2019  05:44 PM    <DIR>          Administrative - Bangsamoro Waters (GPH-MILF 2014)\n",
      "12/31/2019  05:44 PM    <DIR>          Administrative boundaries - ARMM Barangays (PSA 2016)\n",
      "12/31/2019  05:44 PM    <DIR>          Administrative boundaries - ARMM Municipalities (PSA 2016)\n",
      "12/31/2019  05:44 PM    <DIR>          Administrative boundaries - ARMM Provinces (PSA 2016)\n",
      "12/31/2019  05:44 PM    <DIR>          Administrative Boundaries - BARMM Barangays (PSA 2016)\n",
      "12/31/2019  05:44 PM    <DIR>          Administrative Boundaries - BARMM Barangays ao 20190206 (PSA 2016)\n",
      "12/31/2019  05:44 PM    <DIR>          Administrative Boundaries - BARMM Municipalities (PSA 2016)\n",
      "12/31/2019  05:44 PM    <DIR>          Administrative Boundaries - BARMM Municipalities ao 20190206 (PSA 2016)\n",
      "12/31/2019  05:44 PM    <DIR>          Administrative Boundaries - BARMM Provinces (PSA 2016)\n",
      "12/31/2019  05:44 PM    <DIR>          Administrative Boundaries - BARMM Provinces ao 20190206 (PSA2016)\n",
      "12/31/2019  05:44 PM    <DIR>          Administrative Boundaries - BARMM Region (PSA 2016)\n",
      "12/31/2019  05:44 PM    <DIR>          Administrative Boundaries - BARMM Region ao 20190206 (PSA 2016)\n",
      "12/31/2019  05:45 PM    <DIR>          Administrative Boundaries - PH Barangays (PSA 2016)\n",
      "12/31/2019  05:45 PM    <DIR>          Administrative Boundaries - PH Municipalities (PSA 2016)\n",
      "12/31/2019  05:45 PM    <DIR>          Administrative Boundaries - PH Provinces (PSA 2016)\n",
      "12/31/2019  05:45 PM    <DIR>          Administrative Boundaries - PH Region (PSA 2016)\n",
      "12/31/2019  05:45 PM    <DIR>          MAAMarawiARG2018\n",
      "               0 File(s)              0 bytes\n",
      "              20 Dir(s)  743,030,460,416 bytes free\n"
     ]
    },
    {
     "name": "stderr",
     "output_type": "stream",
     "text": [
      "File Not Found\n"
     ]
    }
   ],
   "source": [
    "# Categories  in Administrative\n",
    "!dir -- datasets\\1-Geodata\\1-ADMINISTRATIVE"
   ]
  },
  {
   "cell_type": "code",
   "execution_count": 28,
   "metadata": {},
   "outputs": [
    {
     "name": "stdout",
     "output_type": "stream",
     "text": [
      " Volume in drive C has no label.\n",
      " Volume Serial Number is E0A1-1C81\n",
      "\n",
      " Directory of C:\\Users\\othep\\Desktop\\Prince\\bangsamoro_eda\n",
      "\n",
      "\n",
      " Directory of C:\\Users\\othep\\Desktop\\Prince\\bangsamoro_eda\\datasets\\1-Geodata\\1-ADMINISTRATIVE\\Administrative - ARMM Provincial Capitals and Major Cities (PSA 2016)\n",
      "\n",
      "12/31/2019  05:44 PM    <DIR>          .\n",
      "12/31/2019  05:44 PM    <DIR>          ..\n",
      "02/15/2019  07:42 PM                 5 AdministrativeARMMProvincialCapitalsAndMajorCitiesPSA2016.cpg\n",
      "02/15/2019  07:42 PM             2,658 AdministrativeARMMProvincialCapitalsAndMajorCitiesPSA2016.dbf\n",
      "02/15/2019  07:42 PM               390 AdministrativeARMMProvincialCapitalsAndMajorCitiesPSA2016.prj\n",
      "02/15/2019  07:42 PM               599 AdministrativeARMMProvincialCapitalsAndMajorCitiesPSA2016.qpj\n",
      "02/15/2019  07:42 PM               268 AdministrativeARMMProvincialCapitalsAndMajorCitiesPSA2016.shp\n",
      "02/15/2019  07:42 PM               148 AdministrativeARMMProvincialCapitalsAndMajorCitiesPSA2016.shx\n",
      "02/15/2019  07:45 PM               437 AdministrativeARMMProvincialCapitalsAndMajorCitiesPSA2016.txt\n",
      "               7 File(s)          4,505 bytes\n",
      "               2 Dir(s)  743,029,993,472 bytes free\n"
     ]
    },
    {
     "name": "stderr",
     "output_type": "stream",
     "text": [
      "File Not Found\n"
     ]
    }
   ],
   "source": [
    "# provincial capitals and  major cities\n",
    "!dir -- \"datasets/1-Geodata/1-ADMINISTRATIVE/Administrative - ARMM Provincial Capitals and Major Cities (PSA 2016)\""
   ]
  },
  {
   "cell_type": "code",
   "execution_count": null,
   "metadata": {},
   "outputs": [],
   "source": []
  }
 ],
 "metadata": {
  "kernelspec": {
   "display_name": "Python 3",
   "language": "python",
   "name": "python3"
  },
  "language_info": {
   "codemirror_mode": {
    "name": "ipython",
    "version": 3
   },
   "file_extension": ".py",
   "mimetype": "text/x-python",
   "name": "python",
   "nbconvert_exporter": "python",
   "pygments_lexer": "ipython3",
   "version": "3.7.4"
  }
 },
 "nbformat": 4,
 "nbformat_minor": 2
}
