{
 "cells": [
  {
   "cell_type": "code",
   "execution_count": 1,
   "metadata": {},
   "outputs": [],
   "source": [
    "import pandas as pd\n",
    "\n",
    "a = pd.read_csv('house_level_flemms.csv')"
   ]
  },
  {
   "cell_type": "code",
   "execution_count": 6,
   "metadata": {},
   "outputs": [
    {
     "data": {
      "text/html": [
       "<div>\n",
       "<style scoped>\n",
       "    .dataframe tbody tr th:only-of-type {\n",
       "        vertical-align: middle;\n",
       "    }\n",
       "\n",
       "    .dataframe tbody tr th {\n",
       "        vertical-align: top;\n",
       "    }\n",
       "\n",
       "    .dataframe thead th {\n",
       "        text-align: right;\n",
       "    }\n",
       "</style>\n",
       "<table border=\"1\" class=\"dataframe\">\n",
       "  <thead>\n",
       "    <tr style=\"text-align: right;\">\n",
       "      <th></th>\n",
       "      <th>CASE_ID</th>\n",
       "      <th>Bgy_Code</th>\n",
       "      <th>Construction Materials of the Outer Walls</th>\n",
       "      <th>Fuel for Lighting</th>\n",
       "      <th>Source of Water Supply for Drinking</th>\n",
       "      <th>Tenure Status of the Housing Unit/Lot</th>\n",
       "      <th>Sex</th>\n",
       "      <th>Single Year-Age Classification</th>\n",
       "      <th>Copy of Birth Certificate</th>\n",
       "      <th>Marital Status</th>\n",
       "      <th>Literacy</th>\n",
       "      <th>Highest Grade Completed</th>\n",
       "      <th>If graduate of Technical/Vocational Course</th>\n",
       "      <th>Overseas Worker</th>\n",
       "    </tr>\n",
       "  </thead>\n",
       "  <tbody>\n",
       "    <tr>\n",
       "      <th>0</th>\n",
       "      <td>15707000010010000001000001</td>\n",
       "      <td>157001001</td>\n",
       "      <td>2</td>\n",
       "      <td>6.0</td>\n",
       "      <td>9.0</td>\n",
       "      <td>1.0</td>\n",
       "      <td>1.0</td>\n",
       "      <td>37.0</td>\n",
       "      <td>1.0</td>\n",
       "      <td>2.0</td>\n",
       "      <td>1.0</td>\n",
       "      <td>220.0</td>\n",
       "      <td>2.0</td>\n",
       "      <td>2.0</td>\n",
       "    </tr>\n",
       "    <tr>\n",
       "      <th>1</th>\n",
       "      <td>15707000010010000001000001</td>\n",
       "      <td>157001001</td>\n",
       "      <td>2</td>\n",
       "      <td>6.0</td>\n",
       "      <td>9.0</td>\n",
       "      <td>1.0</td>\n",
       "      <td>2.0</td>\n",
       "      <td>31.0</td>\n",
       "      <td>1.0</td>\n",
       "      <td>2.0</td>\n",
       "      <td>1.0</td>\n",
       "      <td>170.0</td>\n",
       "      <td>2.0</td>\n",
       "      <td>2.0</td>\n",
       "    </tr>\n",
       "    <tr>\n",
       "      <th>2</th>\n",
       "      <td>15707000010010000001000001</td>\n",
       "      <td>157001001</td>\n",
       "      <td>2</td>\n",
       "      <td>6.0</td>\n",
       "      <td>9.0</td>\n",
       "      <td>1.0</td>\n",
       "      <td>1.0</td>\n",
       "      <td>12.0</td>\n",
       "      <td>1.0</td>\n",
       "      <td>1.0</td>\n",
       "      <td>1.0</td>\n",
       "      <td>150.0</td>\n",
       "      <td>NaN</td>\n",
       "      <td>NaN</td>\n",
       "    </tr>\n",
       "    <tr>\n",
       "      <th>3</th>\n",
       "      <td>15707000010010000001000001</td>\n",
       "      <td>157001001</td>\n",
       "      <td>2</td>\n",
       "      <td>6.0</td>\n",
       "      <td>9.0</td>\n",
       "      <td>1.0</td>\n",
       "      <td>2.0</td>\n",
       "      <td>10.0</td>\n",
       "      <td>1.0</td>\n",
       "      <td>1.0</td>\n",
       "      <td>1.0</td>\n",
       "      <td>140.0</td>\n",
       "      <td>NaN</td>\n",
       "      <td>NaN</td>\n",
       "    </tr>\n",
       "    <tr>\n",
       "      <th>4</th>\n",
       "      <td>15707000010010000001000001</td>\n",
       "      <td>157001001</td>\n",
       "      <td>2</td>\n",
       "      <td>6.0</td>\n",
       "      <td>9.0</td>\n",
       "      <td>1.0</td>\n",
       "      <td>2.0</td>\n",
       "      <td>7.0</td>\n",
       "      <td>1.0</td>\n",
       "      <td>1.0</td>\n",
       "      <td>1.0</td>\n",
       "      <td>110.0</td>\n",
       "      <td>NaN</td>\n",
       "      <td>NaN</td>\n",
       "    </tr>\n",
       "  </tbody>\n",
       "</table>\n",
       "</div>"
      ],
      "text/plain": [
       "                      CASE_ID   Bgy_Code  \\\n",
       "0  15707000010010000001000001  157001001   \n",
       "1  15707000010010000001000001  157001001   \n",
       "2  15707000010010000001000001  157001001   \n",
       "3  15707000010010000001000001  157001001   \n",
       "4  15707000010010000001000001  157001001   \n",
       "\n",
       "   Construction Materials of the Outer Walls  Fuel for Lighting  \\\n",
       "0                                          2                6.0   \n",
       "1                                          2                6.0   \n",
       "2                                          2                6.0   \n",
       "3                                          2                6.0   \n",
       "4                                          2                6.0   \n",
       "\n",
       "   Source of Water Supply for Drinking  Tenure Status of the Housing Unit/Lot  \\\n",
       "0                                  9.0                                    1.0   \n",
       "1                                  9.0                                    1.0   \n",
       "2                                  9.0                                    1.0   \n",
       "3                                  9.0                                    1.0   \n",
       "4                                  9.0                                    1.0   \n",
       "\n",
       "   Sex  Single Year-Age Classification  Copy of Birth Certificate  \\\n",
       "0  1.0                            37.0                        1.0   \n",
       "1  2.0                            31.0                        1.0   \n",
       "2  1.0                            12.0                        1.0   \n",
       "3  2.0                            10.0                        1.0   \n",
       "4  2.0                             7.0                        1.0   \n",
       "\n",
       "   Marital Status  Literacy  Highest Grade Completed  \\\n",
       "0             2.0       1.0                    220.0   \n",
       "1             2.0       1.0                    170.0   \n",
       "2             1.0       1.0                    150.0   \n",
       "3             1.0       1.0                    140.0   \n",
       "4             1.0       1.0                    110.0   \n",
       "\n",
       "   If graduate of Technical/Vocational Course  Overseas Worker  \n",
       "0                                         2.0              2.0  \n",
       "1                                         2.0              2.0  \n",
       "2                                         NaN              NaN  \n",
       "3                                         NaN              NaN  \n",
       "4                                         NaN              NaN  "
      ]
     },
     "execution_count": 6,
     "metadata": {},
     "output_type": "execute_result"
    }
   ],
   "source": [
    "a.head()"
   ]
  },
  {
   "cell_type": "code",
   "execution_count": null,
   "metadata": {},
   "outputs": [],
   "source": [
    "a.info(verbose=True)"
   ]
  },
  {
   "cell_type": "code",
   "execution_count": null,
   "metadata": {},
   "outputs": [],
   "source": [
    "len(a)"
   ]
  },
  {
   "cell_type": "code",
   "execution_count": 14,
   "metadata": {},
   "outputs": [],
   "source": [
    "b = a.iloc[:,:6].drop_duplicates().reset_index(drop=True)"
   ]
  },
  {
   "cell_type": "code",
   "execution_count": 15,
   "metadata": {},
   "outputs": [
    {
     "data": {
      "text/html": [
       "<div>\n",
       "<style scoped>\n",
       "    .dataframe tbody tr th:only-of-type {\n",
       "        vertical-align: middle;\n",
       "    }\n",
       "\n",
       "    .dataframe tbody tr th {\n",
       "        vertical-align: top;\n",
       "    }\n",
       "\n",
       "    .dataframe thead th {\n",
       "        text-align: right;\n",
       "    }\n",
       "</style>\n",
       "<table border=\"1\" class=\"dataframe\">\n",
       "  <thead>\n",
       "    <tr style=\"text-align: right;\">\n",
       "      <th></th>\n",
       "      <th>CASE_ID</th>\n",
       "      <th>Bgy_Code</th>\n",
       "      <th>Construction Materials of the Outer Walls</th>\n",
       "      <th>Fuel for Lighting</th>\n",
       "      <th>Source of Water Supply for Drinking</th>\n",
       "      <th>Tenure Status of the Housing Unit/Lot</th>\n",
       "    </tr>\n",
       "  </thead>\n",
       "  <tbody>\n",
       "    <tr>\n",
       "      <th>0</th>\n",
       "      <td>15707000010010000001000001</td>\n",
       "      <td>157001001</td>\n",
       "      <td>2</td>\n",
       "      <td>6.0</td>\n",
       "      <td>9.0</td>\n",
       "      <td>1.0</td>\n",
       "    </tr>\n",
       "    <tr>\n",
       "      <th>1</th>\n",
       "      <td>15707000010010000002000002</td>\n",
       "      <td>157001001</td>\n",
       "      <td>2</td>\n",
       "      <td>6.0</td>\n",
       "      <td>9.0</td>\n",
       "      <td>1.0</td>\n",
       "    </tr>\n",
       "    <tr>\n",
       "      <th>2</th>\n",
       "      <td>15707000010010000003000003</td>\n",
       "      <td>157001001</td>\n",
       "      <td>2</td>\n",
       "      <td>6.0</td>\n",
       "      <td>9.0</td>\n",
       "      <td>1.0</td>\n",
       "    </tr>\n",
       "    <tr>\n",
       "      <th>3</th>\n",
       "      <td>15707000010010000004000004</td>\n",
       "      <td>157001001</td>\n",
       "      <td>2</td>\n",
       "      <td>6.0</td>\n",
       "      <td>9.0</td>\n",
       "      <td>1.0</td>\n",
       "    </tr>\n",
       "    <tr>\n",
       "      <th>4</th>\n",
       "      <td>15707000010010000005000005</td>\n",
       "      <td>157001001</td>\n",
       "      <td>2</td>\n",
       "      <td>6.0</td>\n",
       "      <td>9.0</td>\n",
       "      <td>1.0</td>\n",
       "    </tr>\n",
       "  </tbody>\n",
       "</table>\n",
       "</div>"
      ],
      "text/plain": [
       "                      CASE_ID   Bgy_Code  \\\n",
       "0  15707000010010000001000001  157001001   \n",
       "1  15707000010010000002000002  157001001   \n",
       "2  15707000010010000003000003  157001001   \n",
       "3  15707000010010000004000004  157001001   \n",
       "4  15707000010010000005000005  157001001   \n",
       "\n",
       "   Construction Materials of the Outer Walls  Fuel for Lighting  \\\n",
       "0                                          2                6.0   \n",
       "1                                          2                6.0   \n",
       "2                                          2                6.0   \n",
       "3                                          2                6.0   \n",
       "4                                          2                6.0   \n",
       "\n",
       "   Source of Water Supply for Drinking  Tenure Status of the Housing Unit/Lot  \n",
       "0                                  9.0                                    1.0  \n",
       "1                                  9.0                                    1.0  \n",
       "2                                  9.0                                    1.0  \n",
       "3                                  9.0                                    1.0  \n",
       "4                                  9.0                                    1.0  "
      ]
     },
     "execution_count": 15,
     "metadata": {},
     "output_type": "execute_result"
    }
   ],
   "source": [
    "b.head()"
   ]
  },
  {
   "cell_type": "code",
   "execution_count": 18,
   "metadata": {},
   "outputs": [
    {
     "data": {
      "text/plain": [
       "2     354496\n",
       "5     160944\n",
       "1     102959\n",
       "3      86599\n",
       "4       8868\n",
       "99      3659\n",
       "8       3614\n",
       "6       1872\n",
       "9        866\n",
       "10       330\n",
       "11       228\n",
       "7        147\n",
       "Name: Construction Materials of the Outer Walls, dtype: int64"
      ]
     },
     "execution_count": 18,
     "metadata": {},
     "output_type": "execute_result"
    }
   ],
   "source": [
    "b['Construction Materials of the Outer Walls'].value_counts()"
   ]
  },
  {
   "cell_type": "code",
   "execution_count": 34,
   "metadata": {},
   "outputs": [],
   "source": []
  },
  {
   "cell_type": "code",
   "execution_count": 35,
   "metadata": {
    "scrolled": true
   },
   "outputs": [],
   "source": [
    "import numpy as np\n",
    "\n",
    "condition1 = [(b['Construction Materials of the Outer Walls'] == 1),\n",
    "              (b['Construction Materials of the Outer Walls'] == 3),\n",
    "              (b['Construction Materials of the Outer Walls'] == 4),\n",
    "              (b['Construction Materials of the Outer Walls'] == 6),\n",
    "              (b['Construction Materials of the Outer Walls'] == 7)\n",
    "             ]\n",
    "b['Household with Concrete Walls Proportion'] = np.select(condition1, [1,1,1,1,1], 0)"
   ]
  },
  {
   "cell_type": "code",
   "execution_count": 36,
   "metadata": {},
   "outputs": [
    {
     "data": {
      "text/plain": [
       "0    524137\n",
       "1    200445\n",
       "Name: Concrete Walls Proportion, dtype: int64"
      ]
     },
     "execution_count": 36,
     "metadata": {},
     "output_type": "execute_result"
    }
   ],
   "source": [
    "b['Household with Concrete Walls Proportion'].value_counts()"
   ]
  },
  {
   "cell_type": "code",
   "execution_count": 37,
   "metadata": {},
   "outputs": [
    {
     "data": {
      "text/html": [
       "<div>\n",
       "<style scoped>\n",
       "    .dataframe tbody tr th:only-of-type {\n",
       "        vertical-align: middle;\n",
       "    }\n",
       "\n",
       "    .dataframe tbody tr th {\n",
       "        vertical-align: top;\n",
       "    }\n",
       "\n",
       "    .dataframe thead th {\n",
       "        text-align: right;\n",
       "    }\n",
       "</style>\n",
       "<table border=\"1\" class=\"dataframe\">\n",
       "  <thead>\n",
       "    <tr style=\"text-align: right;\">\n",
       "      <th></th>\n",
       "      <th>CASE_ID</th>\n",
       "      <th>Bgy_Code</th>\n",
       "      <th>Construction Materials of the Outer Walls</th>\n",
       "      <th>Fuel for Lighting</th>\n",
       "      <th>Source of Water Supply for Drinking</th>\n",
       "      <th>Tenure Status of the Housing Unit/Lot</th>\n",
       "      <th>Concrete Walls Proportion</th>\n",
       "    </tr>\n",
       "  </thead>\n",
       "  <tbody>\n",
       "    <tr>\n",
       "      <th>0</th>\n",
       "      <td>15707000010010000001000001</td>\n",
       "      <td>157001001</td>\n",
       "      <td>2</td>\n",
       "      <td>6.0</td>\n",
       "      <td>9.0</td>\n",
       "      <td>1.0</td>\n",
       "      <td>0</td>\n",
       "    </tr>\n",
       "    <tr>\n",
       "      <th>1</th>\n",
       "      <td>15707000010010000002000002</td>\n",
       "      <td>157001001</td>\n",
       "      <td>2</td>\n",
       "      <td>6.0</td>\n",
       "      <td>9.0</td>\n",
       "      <td>1.0</td>\n",
       "      <td>0</td>\n",
       "    </tr>\n",
       "    <tr>\n",
       "      <th>2</th>\n",
       "      <td>15707000010010000003000003</td>\n",
       "      <td>157001001</td>\n",
       "      <td>2</td>\n",
       "      <td>6.0</td>\n",
       "      <td>9.0</td>\n",
       "      <td>1.0</td>\n",
       "      <td>0</td>\n",
       "    </tr>\n",
       "    <tr>\n",
       "      <th>3</th>\n",
       "      <td>15707000010010000004000004</td>\n",
       "      <td>157001001</td>\n",
       "      <td>2</td>\n",
       "      <td>6.0</td>\n",
       "      <td>9.0</td>\n",
       "      <td>1.0</td>\n",
       "      <td>0</td>\n",
       "    </tr>\n",
       "    <tr>\n",
       "      <th>4</th>\n",
       "      <td>15707000010010000005000005</td>\n",
       "      <td>157001001</td>\n",
       "      <td>2</td>\n",
       "      <td>6.0</td>\n",
       "      <td>9.0</td>\n",
       "      <td>1.0</td>\n",
       "      <td>0</td>\n",
       "    </tr>\n",
       "  </tbody>\n",
       "</table>\n",
       "</div>"
      ],
      "text/plain": [
       "                      CASE_ID   Bgy_Code  \\\n",
       "0  15707000010010000001000001  157001001   \n",
       "1  15707000010010000002000002  157001001   \n",
       "2  15707000010010000003000003  157001001   \n",
       "3  15707000010010000004000004  157001001   \n",
       "4  15707000010010000005000005  157001001   \n",
       "\n",
       "   Construction Materials of the Outer Walls  Fuel for Lighting  \\\n",
       "0                                          2                6.0   \n",
       "1                                          2                6.0   \n",
       "2                                          2                6.0   \n",
       "3                                          2                6.0   \n",
       "4                                          2                6.0   \n",
       "\n",
       "   Source of Water Supply for Drinking  Tenure Status of the Housing Unit/Lot  \\\n",
       "0                                  9.0                                    1.0   \n",
       "1                                  9.0                                    1.0   \n",
       "2                                  9.0                                    1.0   \n",
       "3                                  9.0                                    1.0   \n",
       "4                                  9.0                                    1.0   \n",
       "\n",
       "   Concrete Walls Proportion  \n",
       "0                          0  \n",
       "1                          0  \n",
       "2                          0  \n",
       "3                          0  \n",
       "4                          0  "
      ]
     },
     "execution_count": 37,
     "metadata": {},
     "output_type": "execute_result"
    }
   ],
   "source": [
    "b.head()"
   ]
  },
  {
   "cell_type": "code",
   "execution_count": 39,
   "metadata": {},
   "outputs": [],
   "source": [
    "condition2 = [(b['Fuel for Lighting'] == 1.0)]\n",
    "b['Access to Electricity Proportion'] = np.select(condition2, [1], 0)"
   ]
  },
  {
   "cell_type": "code",
   "execution_count": 44,
   "metadata": {},
   "outputs": [],
   "source": [
    "condition3 = [(b['Source of Water Supply for Drinking'] == 1),\n",
    "              (b['Source of Water Supply for Drinking'] == 2),\n",
    "              (b['Source of Water Supply for Drinking'] == 7),\n",
    "              (b['Source of Water Supply for Drinking'] == 11)\n",
    "             ]\n",
    "b['Access to Treated Water Proportion'] = np.select(condition3, [1,1,1,1], 0)"
   ]
  },
  {
   "cell_type": "code",
   "execution_count": 45,
   "metadata": {},
   "outputs": [
    {
     "data": {
      "text/plain": [
       "0    466438\n",
       "1    258144\n",
       "Name: Access to Treated Water Proportion, dtype: int64"
      ]
     },
     "execution_count": 45,
     "metadata": {},
     "output_type": "execute_result"
    }
   ],
   "source": [
    "b['Access to Treated Water Proportion'].value_counts()"
   ]
  },
  {
   "cell_type": "code",
   "execution_count": 48,
   "metadata": {},
   "outputs": [],
   "source": [
    "condition4 = [(b['Tenure Status of the Housing Unit/Lot'] == 1)]\n",
    "b['Owned House and Lot Proportion'] = np.select(condition4, [1], 0)"
   ]
  },
  {
   "cell_type": "code",
   "execution_count": null,
   "metadata": {},
   "outputs": [],
   "source": []
  },
  {
   "cell_type": "code",
   "execution_count": 49,
   "metadata": {},
   "outputs": [
    {
     "data": {
      "text/plain": [
       "1    440519\n",
       "0    284063\n",
       "Name: Owned House and Lot Proportion, dtype: int64"
      ]
     },
     "execution_count": 49,
     "metadata": {},
     "output_type": "execute_result"
    }
   ],
   "source": [
    "b['Owned House and Lot Proportion'].value_counts()"
   ]
  },
  {
   "cell_type": "code",
   "execution_count": null,
   "metadata": {},
   "outputs": [],
   "source": []
  },
  {
   "cell_type": "code",
   "execution_count": null,
   "metadata": {},
   "outputs": [],
   "source": []
  },
  {
   "cell_type": "code",
   "execution_count": null,
   "metadata": {},
   "outputs": [],
   "source": []
  },
  {
   "cell_type": "code",
   "execution_count": null,
   "metadata": {},
   "outputs": [],
   "source": []
  },
  {
   "cell_type": "code",
   "execution_count": null,
   "metadata": {},
   "outputs": [],
   "source": []
  },
  {
   "cell_type": "code",
   "execution_count": null,
   "metadata": {},
   "outputs": [],
   "source": []
  },
  {
   "cell_type": "code",
   "execution_count": 12,
   "metadata": {},
   "outputs": [],
   "source": [
    "c = a.iloc[:, list(range(2)) + [-1,-2,-3,-4,-5,-6,-7,-8]]"
   ]
  },
  {
   "cell_type": "code",
   "execution_count": 13,
   "metadata": {},
   "outputs": [
    {
     "data": {
      "text/html": [
       "<div>\n",
       "<style scoped>\n",
       "    .dataframe tbody tr th:only-of-type {\n",
       "        vertical-align: middle;\n",
       "    }\n",
       "\n",
       "    .dataframe tbody tr th {\n",
       "        vertical-align: top;\n",
       "    }\n",
       "\n",
       "    .dataframe thead th {\n",
       "        text-align: right;\n",
       "    }\n",
       "</style>\n",
       "<table border=\"1\" class=\"dataframe\">\n",
       "  <thead>\n",
       "    <tr style=\"text-align: right;\">\n",
       "      <th></th>\n",
       "      <th>CASE_ID</th>\n",
       "      <th>Bgy_Code</th>\n",
       "      <th>Overseas Worker</th>\n",
       "      <th>If graduate of Technical/Vocational Course</th>\n",
       "      <th>Highest Grade Completed</th>\n",
       "      <th>Literacy</th>\n",
       "      <th>Marital Status</th>\n",
       "      <th>Copy of Birth Certificate</th>\n",
       "      <th>Single Year-Age Classification</th>\n",
       "      <th>Sex</th>\n",
       "    </tr>\n",
       "  </thead>\n",
       "  <tbody>\n",
       "    <tr>\n",
       "      <th>0</th>\n",
       "      <td>15707000010010000001000001</td>\n",
       "      <td>157001001</td>\n",
       "      <td>2.0</td>\n",
       "      <td>2.0</td>\n",
       "      <td>220.0</td>\n",
       "      <td>1.0</td>\n",
       "      <td>2.0</td>\n",
       "      <td>1.0</td>\n",
       "      <td>37.0</td>\n",
       "      <td>1.0</td>\n",
       "    </tr>\n",
       "    <tr>\n",
       "      <th>1</th>\n",
       "      <td>15707000010010000001000001</td>\n",
       "      <td>157001001</td>\n",
       "      <td>2.0</td>\n",
       "      <td>2.0</td>\n",
       "      <td>170.0</td>\n",
       "      <td>1.0</td>\n",
       "      <td>2.0</td>\n",
       "      <td>1.0</td>\n",
       "      <td>31.0</td>\n",
       "      <td>2.0</td>\n",
       "    </tr>\n",
       "    <tr>\n",
       "      <th>2</th>\n",
       "      <td>15707000010010000001000001</td>\n",
       "      <td>157001001</td>\n",
       "      <td>NaN</td>\n",
       "      <td>NaN</td>\n",
       "      <td>150.0</td>\n",
       "      <td>1.0</td>\n",
       "      <td>1.0</td>\n",
       "      <td>1.0</td>\n",
       "      <td>12.0</td>\n",
       "      <td>1.0</td>\n",
       "    </tr>\n",
       "    <tr>\n",
       "      <th>3</th>\n",
       "      <td>15707000010010000001000001</td>\n",
       "      <td>157001001</td>\n",
       "      <td>NaN</td>\n",
       "      <td>NaN</td>\n",
       "      <td>140.0</td>\n",
       "      <td>1.0</td>\n",
       "      <td>1.0</td>\n",
       "      <td>1.0</td>\n",
       "      <td>10.0</td>\n",
       "      <td>2.0</td>\n",
       "    </tr>\n",
       "    <tr>\n",
       "      <th>4</th>\n",
       "      <td>15707000010010000001000001</td>\n",
       "      <td>157001001</td>\n",
       "      <td>NaN</td>\n",
       "      <td>NaN</td>\n",
       "      <td>110.0</td>\n",
       "      <td>1.0</td>\n",
       "      <td>1.0</td>\n",
       "      <td>1.0</td>\n",
       "      <td>7.0</td>\n",
       "      <td>2.0</td>\n",
       "    </tr>\n",
       "  </tbody>\n",
       "</table>\n",
       "</div>"
      ],
      "text/plain": [
       "                      CASE_ID   Bgy_Code  Overseas Worker  \\\n",
       "0  15707000010010000001000001  157001001              2.0   \n",
       "1  15707000010010000001000001  157001001              2.0   \n",
       "2  15707000010010000001000001  157001001              NaN   \n",
       "3  15707000010010000001000001  157001001              NaN   \n",
       "4  15707000010010000001000001  157001001              NaN   \n",
       "\n",
       "   If graduate of Technical/Vocational Course  Highest Grade Completed  \\\n",
       "0                                         2.0                    220.0   \n",
       "1                                         2.0                    170.0   \n",
       "2                                         NaN                    150.0   \n",
       "3                                         NaN                    140.0   \n",
       "4                                         NaN                    110.0   \n",
       "\n",
       "   Literacy  Marital Status  Copy of Birth Certificate  \\\n",
       "0       1.0             2.0                        1.0   \n",
       "1       1.0             2.0                        1.0   \n",
       "2       1.0             1.0                        1.0   \n",
       "3       1.0             1.0                        1.0   \n",
       "4       1.0             1.0                        1.0   \n",
       "\n",
       "   Single Year-Age Classification  Sex  \n",
       "0                            37.0  1.0  \n",
       "1                            31.0  2.0  \n",
       "2                            12.0  1.0  \n",
       "3                            10.0  2.0  \n",
       "4                             7.0  2.0  "
      ]
     },
     "execution_count": 13,
     "metadata": {},
     "output_type": "execute_result"
    }
   ],
   "source": [
    "c.head()"
   ]
  },
  {
   "cell_type": "code",
   "execution_count": null,
   "metadata": {},
   "outputs": [],
   "source": []
  }
 ],
 "metadata": {
  "kernelspec": {
   "display_name": "Python 3",
   "language": "python",
   "name": "python3"
  },
  "language_info": {
   "codemirror_mode": {
    "name": "ipython",
    "version": 3
   },
   "file_extension": ".py",
   "mimetype": "text/x-python",
   "name": "python",
   "nbconvert_exporter": "python",
   "pygments_lexer": "ipython3",
   "version": "3.7.3"
  }
 },
 "nbformat": 4,
 "nbformat_minor": 2
}
